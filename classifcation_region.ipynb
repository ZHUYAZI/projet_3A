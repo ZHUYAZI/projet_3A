{
 "cells": [
  {
   "cell_type": "code",
   "execution_count": 1,
   "metadata": {},
   "outputs": [],
   "source": [
    "import pandas as pd\n",
    "from sklearn.cluster import KMeans\n",
    "import numpy as np\n",
    "from sklearn import preprocessing\n",
    "from sklearn.decomposition import PCA\n",
    "import plotly.graph_objects as go\n",
    "%matplotlib inline\n",
    "import seaborn as sns"
   ]
  },
  {
   "cell_type": "code",
   "execution_count": 2,
   "metadata": {},
   "outputs": [],
   "source": [
    "import matplotlib.pyplot as plt"
   ]
  },
  {
   "cell_type": "code",
   "execution_count": 3,
   "metadata": {
    "scrolled": true
   },
   "outputs": [
    {
     "data": {
      "text/html": [
       "<div>\n",
       "<style scoped>\n",
       "    .dataframe tbody tr th:only-of-type {\n",
       "        vertical-align: middle;\n",
       "    }\n",
       "\n",
       "    .dataframe tbody tr th {\n",
       "        vertical-align: top;\n",
       "    }\n",
       "\n",
       "    .dataframe thead th {\n",
       "        text-align: right;\n",
       "    }\n",
       "</style>\n",
       "<table border=\"1\" class=\"dataframe\">\n",
       "  <thead>\n",
       "    <tr style=\"text-align: right;\">\n",
       "      <th></th>\n",
       "      <th>name_region</th>\n",
       "      <th>nombre_terrase</th>\n",
       "      <th>nombre_logement</th>\n",
       "      <th>surface_region</th>\n",
       "      <th>distance</th>\n",
       "      <th>population</th>\n",
       "    </tr>\n",
       "  </thead>\n",
       "  <tbody>\n",
       "    <tr>\n",
       "      <th>0</th>\n",
       "      <td>SAINT-AGNE</td>\n",
       "      <td>9</td>\n",
       "      <td>3865.000673</td>\n",
       "      <td>5.013747e+05</td>\n",
       "      <td>2.608506</td>\n",
       "      <td>5947.884723</td>\n",
       "    </tr>\n",
       "    <tr>\n",
       "      <th>1</th>\n",
       "      <td>MATABIAU</td>\n",
       "      <td>53</td>\n",
       "      <td>5751.500955</td>\n",
       "      <td>3.882656e+05</td>\n",
       "      <td>0.782908</td>\n",
       "      <td>7784.300731</td>\n",
       "    </tr>\n",
       "    <tr>\n",
       "      <th>2</th>\n",
       "      <td>CAPITOLE</td>\n",
       "      <td>121</td>\n",
       "      <td>5028.000877</td>\n",
       "      <td>4.294602e+05</td>\n",
       "      <td>0.334373</td>\n",
       "      <td>6785.683426</td>\n",
       "    </tr>\n",
       "    <tr>\n",
       "      <th>3</th>\n",
       "      <td>PAPUS</td>\n",
       "      <td>2</td>\n",
       "      <td>2580.000478</td>\n",
       "      <td>7.083979e+05</td>\n",
       "      <td>4.169789</td>\n",
       "      <td>5440.125631</td>\n",
       "    </tr>\n",
       "    <tr>\n",
       "      <th>4</th>\n",
       "      <td>ARNAUD BERNARD</td>\n",
       "      <td>116</td>\n",
       "      <td>6186.501035</td>\n",
       "      <td>6.204326e+05</td>\n",
       "      <td>0.458999</td>\n",
       "      <td>8637.299554</td>\n",
       "    </tr>\n",
       "    <tr>\n",
       "      <th>5</th>\n",
       "      <td>PATTE D'OIE</td>\n",
       "      <td>28</td>\n",
       "      <td>6624.001202</td>\n",
       "      <td>8.261592e+05</td>\n",
       "      <td>1.659888</td>\n",
       "      <td>10304.836667</td>\n",
       "    </tr>\n",
       "    <tr>\n",
       "      <th>6</th>\n",
       "      <td>CROIX-DE-PIERRE</td>\n",
       "      <td>6</td>\n",
       "      <td>3816.500659</td>\n",
       "      <td>1.088998e+06</td>\n",
       "      <td>3.338641</td>\n",
       "      <td>6461.204101</td>\n",
       "    </tr>\n",
       "    <tr>\n",
       "      <th>7</th>\n",
       "      <td>SAINT-MICHEL</td>\n",
       "      <td>27</td>\n",
       "      <td>7595.001339</td>\n",
       "      <td>7.254467e+05</td>\n",
       "      <td>1.865657</td>\n",
       "      <td>10343.845566</td>\n",
       "    </tr>\n",
       "    <tr>\n",
       "      <th>8</th>\n",
       "      <td>CASSELARDIT</td>\n",
       "      <td>3</td>\n",
       "      <td>7121.501258</td>\n",
       "      <td>2.166095e+06</td>\n",
       "      <td>2.777995</td>\n",
       "      <td>11632.813500</td>\n",
       "    </tr>\n",
       "    <tr>\n",
       "      <th>9</th>\n",
       "      <td>ROSERAIE</td>\n",
       "      <td>3</td>\n",
       "      <td>5248.000955</td>\n",
       "      <td>1.222647e+06</td>\n",
       "      <td>3.163299</td>\n",
       "      <td>9483.206996</td>\n",
       "    </tr>\n",
       "    <tr>\n",
       "      <th>10</th>\n",
       "      <td>REYNERIE</td>\n",
       "      <td>0</td>\n",
       "      <td>3397.000595</td>\n",
       "      <td>1.034261e+06</td>\n",
       "      <td>5.170554</td>\n",
       "      <td>8450.170463</td>\n",
       "    </tr>\n",
       "    <tr>\n",
       "      <th>11</th>\n",
       "      <td>CARMES</td>\n",
       "      <td>96</td>\n",
       "      <td>4346.500729</td>\n",
       "      <td>5.227392e+05</td>\n",
       "      <td>0.938590</td>\n",
       "      <td>5895.583644</td>\n",
       "    </tr>\n",
       "    <tr>\n",
       "      <th>12</th>\n",
       "      <td>AMIDONNIERS</td>\n",
       "      <td>5</td>\n",
       "      <td>4647.000814</td>\n",
       "      <td>1.063312e+06</td>\n",
       "      <td>1.625520</td>\n",
       "      <td>6697.574717</td>\n",
       "    </tr>\n",
       "    <tr>\n",
       "      <th>13</th>\n",
       "      <td>LES PRADETTES</td>\n",
       "      <td>1</td>\n",
       "      <td>3150.000574</td>\n",
       "      <td>1.684929e+06</td>\n",
       "      <td>4.950644</td>\n",
       "      <td>6519.309143</td>\n",
       "    </tr>\n",
       "    <tr>\n",
       "      <th>14</th>\n",
       "      <td>COMPANS</td>\n",
       "      <td>25</td>\n",
       "      <td>5415.000965</td>\n",
       "      <td>7.952080e+05</td>\n",
       "      <td>1.277320</td>\n",
       "      <td>7722.934779</td>\n",
       "    </tr>\n",
       "    <tr>\n",
       "      <th>15</th>\n",
       "      <td>ZONES D'ACTIVITES SUD</td>\n",
       "      <td>0</td>\n",
       "      <td>473.391079</td>\n",
       "      <td>8.354358e+06</td>\n",
       "      <td>5.999163</td>\n",
       "      <td>886.830388</td>\n",
       "    </tr>\n",
       "    <tr>\n",
       "      <th>16</th>\n",
       "      <td>LE BUSCA</td>\n",
       "      <td>5</td>\n",
       "      <td>5875.501028</td>\n",
       "      <td>9.389329e+05</td>\n",
       "      <td>1.746942</td>\n",
       "      <td>9895.148623</td>\n",
       "    </tr>\n",
       "    <tr>\n",
       "      <th>17</th>\n",
       "      <td>GRAMONT</td>\n",
       "      <td>0</td>\n",
       "      <td>445.699954</td>\n",
       "      <td>3.137484e+06</td>\n",
       "      <td>4.991920</td>\n",
       "      <td>1130.741274</td>\n",
       "    </tr>\n",
       "    <tr>\n",
       "      <th>18</th>\n",
       "      <td>MARENGO - JOLIMONT</td>\n",
       "      <td>4</td>\n",
       "      <td>7989.501422</td>\n",
       "      <td>1.240302e+06</td>\n",
       "      <td>1.698468</td>\n",
       "      <td>12250.559053</td>\n",
       "    </tr>\n",
       "    <tr>\n",
       "      <th>19</th>\n",
       "      <td>MINIMES</td>\n",
       "      <td>21</td>\n",
       "      <td>15170.002680</td>\n",
       "      <td>2.614596e+06</td>\n",
       "      <td>1.883002</td>\n",
       "      <td>24746.496785</td>\n",
       "    </tr>\n",
       "    <tr>\n",
       "      <th>20</th>\n",
       "      <td>LALANDE</td>\n",
       "      <td>1</td>\n",
       "      <td>5190.500910</td>\n",
       "      <td>3.016420e+06</td>\n",
       "      <td>5.444858</td>\n",
       "      <td>9597.636361</td>\n",
       "    </tr>\n",
       "    <tr>\n",
       "      <th>21</th>\n",
       "      <td>MIRAIL-UNIVERSITE</td>\n",
       "      <td>0</td>\n",
       "      <td>2324.000396</td>\n",
       "      <td>1.052660e+06</td>\n",
       "      <td>4.443604</td>\n",
       "      <td>4231.112350</td>\n",
       "    </tr>\n",
       "    <tr>\n",
       "      <th>22</th>\n",
       "      <td>SAINT-GEORGES</td>\n",
       "      <td>116</td>\n",
       "      <td>3174.000512</td>\n",
       "      <td>2.807627e+05</td>\n",
       "      <td>0.400009</td>\n",
       "      <td>4079.177290</td>\n",
       "    </tr>\n",
       "    <tr>\n",
       "      <th>23</th>\n",
       "      <td>LA TERRASSE</td>\n",
       "      <td>1</td>\n",
       "      <td>4053.500747</td>\n",
       "      <td>1.273803e+06</td>\n",
       "      <td>4.049129</td>\n",
       "      <td>7132.878625</td>\n",
       "    </tr>\n",
       "    <tr>\n",
       "      <th>24</th>\n",
       "      <td>JULES JULIEN</td>\n",
       "      <td>4</td>\n",
       "      <td>2473.000438</td>\n",
       "      <td>4.623839e+05</td>\n",
       "      <td>3.324330</td>\n",
       "      <td>3510.931495</td>\n",
       "    </tr>\n",
       "    <tr>\n",
       "      <th>25</th>\n",
       "      <td>CROIX-DAURADE</td>\n",
       "      <td>11</td>\n",
       "      <td>12656.002332</td>\n",
       "      <td>6.375130e+06</td>\n",
       "      <td>4.213763</td>\n",
       "      <td>24302.900203</td>\n",
       "    </tr>\n",
       "    <tr>\n",
       "      <th>26</th>\n",
       "      <td>FAOURETTE</td>\n",
       "      <td>1</td>\n",
       "      <td>1965.000347</td>\n",
       "      <td>3.894602e+05</td>\n",
       "      <td>3.619045</td>\n",
       "      <td>3873.735431</td>\n",
       "    </tr>\n",
       "    <tr>\n",
       "      <th>27</th>\n",
       "      <td>SAUZELONG - RANGUEIL</td>\n",
       "      <td>3</td>\n",
       "      <td>6191.501091</td>\n",
       "      <td>1.266145e+06</td>\n",
       "      <td>3.084772</td>\n",
       "      <td>10626.629550</td>\n",
       "    </tr>\n",
       "    <tr>\n",
       "      <th>28</th>\n",
       "      <td>SAINT-MARTIN-DU-TOUCH</td>\n",
       "      <td>2</td>\n",
       "      <td>2569.544320</td>\n",
       "      <td>6.568076e+06</td>\n",
       "      <td>6.060693</td>\n",
       "      <td>4139.692319</td>\n",
       "    </tr>\n",
       "    <tr>\n",
       "      <th>29</th>\n",
       "      <td>COTE PAVEE</td>\n",
       "      <td>1</td>\n",
       "      <td>6854.501210</td>\n",
       "      <td>1.794242e+06</td>\n",
       "      <td>2.436582</td>\n",
       "      <td>12258.562286</td>\n",
       "    </tr>\n",
       "    <tr>\n",
       "      <th>30</th>\n",
       "      <td>SOUPETARD</td>\n",
       "      <td>0</td>\n",
       "      <td>1933.500355</td>\n",
       "      <td>4.562210e+05</td>\n",
       "      <td>2.701716</td>\n",
       "      <td>3731.087920</td>\n",
       "    </tr>\n",
       "    <tr>\n",
       "      <th>31</th>\n",
       "      <td>CHATEAU-DE-L'HERS</td>\n",
       "      <td>0</td>\n",
       "      <td>4930.000894</td>\n",
       "      <td>1.880912e+06</td>\n",
       "      <td>3.311762</td>\n",
       "      <td>8991.611546</td>\n",
       "    </tr>\n",
       "    <tr>\n",
       "      <th>32</th>\n",
       "      <td>GUILHEMERY</td>\n",
       "      <td>9</td>\n",
       "      <td>7832.501393</td>\n",
       "      <td>1.369109e+06</td>\n",
       "      <td>1.840895</td>\n",
       "      <td>13252.082558</td>\n",
       "    </tr>\n",
       "    <tr>\n",
       "      <th>33</th>\n",
       "      <td>SAINT-CYPRIEN</td>\n",
       "      <td>42</td>\n",
       "      <td>3304.000571</td>\n",
       "      <td>4.696343e+05</td>\n",
       "      <td>1.048763</td>\n",
       "      <td>4483.553052</td>\n",
       "    </tr>\n",
       "    <tr>\n",
       "      <th>34</th>\n",
       "      <td>RAMIER</td>\n",
       "      <td>0</td>\n",
       "      <td>1093.000207</td>\n",
       "      <td>1.739778e+06</td>\n",
       "      <td>2.652125</td>\n",
       "      <td>1446.691142</td>\n",
       "    </tr>\n",
       "    <tr>\n",
       "      <th>35</th>\n",
       "      <td>SEPT DENIERS</td>\n",
       "      <td>1</td>\n",
       "      <td>3746.000677</td>\n",
       "      <td>2.072572e+06</td>\n",
       "      <td>3.062701</td>\n",
       "      <td>6675.996723</td>\n",
       "    </tr>\n",
       "    <tr>\n",
       "      <th>36</th>\n",
       "      <td>BAGATELLE</td>\n",
       "      <td>0</td>\n",
       "      <td>2343.500418</td>\n",
       "      <td>5.016380e+05</td>\n",
       "      <td>3.648242</td>\n",
       "      <td>4971.807733</td>\n",
       "    </tr>\n",
       "    <tr>\n",
       "      <th>37</th>\n",
       "      <td>MONTAUDRAN - LESPINET</td>\n",
       "      <td>0</td>\n",
       "      <td>7103.501287</td>\n",
       "      <td>9.217802e+06</td>\n",
       "      <td>5.590438</td>\n",
       "      <td>12352.894588</td>\n",
       "    </tr>\n",
       "    <tr>\n",
       "      <th>38</th>\n",
       "      <td>LES CHALETS</td>\n",
       "      <td>30</td>\n",
       "      <td>5486.500955</td>\n",
       "      <td>5.199457e+05</td>\n",
       "      <td>1.002490</td>\n",
       "      <td>8210.551665</td>\n",
       "    </tr>\n",
       "    <tr>\n",
       "      <th>39</th>\n",
       "      <td>GINESTOUS</td>\n",
       "      <td>0</td>\n",
       "      <td>274.303365</td>\n",
       "      <td>6.966582e+06</td>\n",
       "      <td>5.130216</td>\n",
       "      <td>1054.221859</td>\n",
       "    </tr>\n",
       "    <tr>\n",
       "      <th>40</th>\n",
       "      <td>POUVOURVILLE</td>\n",
       "      <td>0</td>\n",
       "      <td>2505.000453</td>\n",
       "      <td>2.827545e+06</td>\n",
       "      <td>6.515886</td>\n",
       "      <td>4174.897011</td>\n",
       "    </tr>\n",
       "    <tr>\n",
       "      <th>41</th>\n",
       "      <td>SAINT-AUBIN - DUPUY</td>\n",
       "      <td>88</td>\n",
       "      <td>6892.001157</td>\n",
       "      <td>6.217067e+05</td>\n",
       "      <td>0.855068</td>\n",
       "      <td>8873.386288</td>\n",
       "    </tr>\n",
       "    <tr>\n",
       "      <th>42</th>\n",
       "      <td>FER-A-CHEVAL</td>\n",
       "      <td>3</td>\n",
       "      <td>3908.000699</td>\n",
       "      <td>6.885608e+05</td>\n",
       "      <td>1.915617</td>\n",
       "      <td>6231.662044</td>\n",
       "    </tr>\n",
       "    <tr>\n",
       "      <th>43</th>\n",
       "      <td>BASSO-CAMBO</td>\n",
       "      <td>0</td>\n",
       "      <td>1737.000302</td>\n",
       "      <td>3.144136e+06</td>\n",
       "      <td>6.201040</td>\n",
       "      <td>2832.905783</td>\n",
       "    </tr>\n",
       "    <tr>\n",
       "      <th>44</th>\n",
       "      <td>FONTAINE-LESTANG</td>\n",
       "      <td>0</td>\n",
       "      <td>1625.000285</td>\n",
       "      <td>5.000968e+05</td>\n",
       "      <td>2.937938</td>\n",
       "      <td>2880.127126</td>\n",
       "    </tr>\n",
       "    <tr>\n",
       "      <th>45</th>\n",
       "      <td>EMPALOT</td>\n",
       "      <td>2</td>\n",
       "      <td>3243.500586</td>\n",
       "      <td>5.174945e+05</td>\n",
       "      <td>2.856579</td>\n",
       "      <td>5801.535491</td>\n",
       "    </tr>\n",
       "    <tr>\n",
       "      <th>46</th>\n",
       "      <td>ARENES</td>\n",
       "      <td>3</td>\n",
       "      <td>3015.500540</td>\n",
       "      <td>3.761575e+05</td>\n",
       "      <td>2.462170</td>\n",
       "      <td>4628.072072</td>\n",
       "    </tr>\n",
       "    <tr>\n",
       "      <th>47</th>\n",
       "      <td>BONNEFOY</td>\n",
       "      <td>10</td>\n",
       "      <td>5270.000938</td>\n",
       "      <td>1.517738e+06</td>\n",
       "      <td>1.908641</td>\n",
       "      <td>8881.035675</td>\n",
       "    </tr>\n",
       "    <tr>\n",
       "      <th>48</th>\n",
       "      <td>RANGUEIL - CHR - FACULTES</td>\n",
       "      <td>0</td>\n",
       "      <td>12274.002244</td>\n",
       "      <td>6.262251e+06</td>\n",
       "      <td>4.715325</td>\n",
       "      <td>17862.615592</td>\n",
       "    </tr>\n",
       "    <tr>\n",
       "      <th>49</th>\n",
       "      <td>PONT-DES-DEMOISELLES</td>\n",
       "      <td>2</td>\n",
       "      <td>5632.001026</td>\n",
       "      <td>1.594903e+06</td>\n",
       "      <td>3.192372</td>\n",
       "      <td>10161.691302</td>\n",
       "    </tr>\n",
       "    <tr>\n",
       "      <th>50</th>\n",
       "      <td>SAINT-ETIENNE</td>\n",
       "      <td>23</td>\n",
       "      <td>3154.500534</td>\n",
       "      <td>3.824110e+05</td>\n",
       "      <td>0.899938</td>\n",
       "      <td>4990.556793</td>\n",
       "    </tr>\n",
       "    <tr>\n",
       "      <th>51</th>\n",
       "      <td>LA CEPIERE</td>\n",
       "      <td>0</td>\n",
       "      <td>3054.500516</td>\n",
       "      <td>1.470829e+06</td>\n",
       "      <td>3.301301</td>\n",
       "      <td>5280.742667</td>\n",
       "    </tr>\n",
       "    <tr>\n",
       "      <th>52</th>\n",
       "      <td>BARRIERE-DE-PARIS</td>\n",
       "      <td>11</td>\n",
       "      <td>5770.562907</td>\n",
       "      <td>3.239690e+06</td>\n",
       "      <td>3.416341</td>\n",
       "      <td>10258.560232</td>\n",
       "    </tr>\n",
       "    <tr>\n",
       "      <th>53</th>\n",
       "      <td>LES IZARDS</td>\n",
       "      <td>0</td>\n",
       "      <td>2627.000475</td>\n",
       "      <td>9.617798e+05</td>\n",
       "      <td>3.952908</td>\n",
       "      <td>4828.287823</td>\n",
       "    </tr>\n",
       "    <tr>\n",
       "      <th>54</th>\n",
       "      <td>JUNCASSE - ARGOULETS</td>\n",
       "      <td>1</td>\n",
       "      <td>4036.000750</td>\n",
       "      <td>2.131942e+06</td>\n",
       "      <td>2.974108</td>\n",
       "      <td>7262.303142</td>\n",
       "    </tr>\n",
       "    <tr>\n",
       "      <th>55</th>\n",
       "      <td>BELLEFONTAINE</td>\n",
       "      <td>5</td>\n",
       "      <td>3015.500550</td>\n",
       "      <td>7.911780e+05</td>\n",
       "      <td>5.828054</td>\n",
       "      <td>7794.563230</td>\n",
       "    </tr>\n",
       "    <tr>\n",
       "      <th>56</th>\n",
       "      <td>LA FOURGUETTE</td>\n",
       "      <td>0</td>\n",
       "      <td>2818.000488</td>\n",
       "      <td>1.520634e+06</td>\n",
       "      <td>5.309784</td>\n",
       "      <td>5302.231981</td>\n",
       "    </tr>\n",
       "    <tr>\n",
       "      <th>57</th>\n",
       "      <td>SAINT-SIMON</td>\n",
       "      <td>0</td>\n",
       "      <td>3981.500729</td>\n",
       "      <td>4.983590e+06</td>\n",
       "      <td>7.380790</td>\n",
       "      <td>9141.129417</td>\n",
       "    </tr>\n",
       "    <tr>\n",
       "      <th>58</th>\n",
       "      <td>PURPAN</td>\n",
       "      <td>1</td>\n",
       "      <td>4723.500820</td>\n",
       "      <td>2.153357e+06</td>\n",
       "      <td>3.775590</td>\n",
       "      <td>7725.988695</td>\n",
       "    </tr>\n",
       "    <tr>\n",
       "      <th>59</th>\n",
       "      <td>LARDENNE</td>\n",
       "      <td>1</td>\n",
       "      <td>4160.000747</td>\n",
       "      <td>4.673952e+06</td>\n",
       "      <td>4.827890</td>\n",
       "      <td>7445.403175</td>\n",
       "    </tr>\n",
       "  </tbody>\n",
       "</table>\n",
       "</div>"
      ],
      "text/plain": [
       "                  name_region  nombre_terrase  nombre_logement  \\\n",
       "0                  SAINT-AGNE               9      3865.000673   \n",
       "1                    MATABIAU              53      5751.500955   \n",
       "2                    CAPITOLE             121      5028.000877   \n",
       "3                       PAPUS               2      2580.000478   \n",
       "4              ARNAUD BERNARD             116      6186.501035   \n",
       "5                 PATTE D'OIE              28      6624.001202   \n",
       "6             CROIX-DE-PIERRE               6      3816.500659   \n",
       "7                SAINT-MICHEL              27      7595.001339   \n",
       "8                 CASSELARDIT               3      7121.501258   \n",
       "9                    ROSERAIE               3      5248.000955   \n",
       "10                   REYNERIE               0      3397.000595   \n",
       "11                     CARMES              96      4346.500729   \n",
       "12                AMIDONNIERS               5      4647.000814   \n",
       "13              LES PRADETTES               1      3150.000574   \n",
       "14                    COMPANS              25      5415.000965   \n",
       "15      ZONES D'ACTIVITES SUD               0       473.391079   \n",
       "16                   LE BUSCA               5      5875.501028   \n",
       "17                    GRAMONT               0       445.699954   \n",
       "18         MARENGO - JOLIMONT               4      7989.501422   \n",
       "19                    MINIMES              21     15170.002680   \n",
       "20                    LALANDE               1      5190.500910   \n",
       "21          MIRAIL-UNIVERSITE               0      2324.000396   \n",
       "22              SAINT-GEORGES             116      3174.000512   \n",
       "23                LA TERRASSE               1      4053.500747   \n",
       "24               JULES JULIEN               4      2473.000438   \n",
       "25              CROIX-DAURADE              11     12656.002332   \n",
       "26                  FAOURETTE               1      1965.000347   \n",
       "27       SAUZELONG - RANGUEIL               3      6191.501091   \n",
       "28      SAINT-MARTIN-DU-TOUCH               2      2569.544320   \n",
       "29                 COTE PAVEE               1      6854.501210   \n",
       "30                  SOUPETARD               0      1933.500355   \n",
       "31          CHATEAU-DE-L'HERS               0      4930.000894   \n",
       "32                 GUILHEMERY               9      7832.501393   \n",
       "33              SAINT-CYPRIEN              42      3304.000571   \n",
       "34                     RAMIER               0      1093.000207   \n",
       "35               SEPT DENIERS               1      3746.000677   \n",
       "36                  BAGATELLE               0      2343.500418   \n",
       "37      MONTAUDRAN - LESPINET               0      7103.501287   \n",
       "38                LES CHALETS              30      5486.500955   \n",
       "39                  GINESTOUS               0       274.303365   \n",
       "40               POUVOURVILLE               0      2505.000453   \n",
       "41        SAINT-AUBIN - DUPUY              88      6892.001157   \n",
       "42               FER-A-CHEVAL               3      3908.000699   \n",
       "43                BASSO-CAMBO               0      1737.000302   \n",
       "44           FONTAINE-LESTANG               0      1625.000285   \n",
       "45                    EMPALOT               2      3243.500586   \n",
       "46                     ARENES               3      3015.500540   \n",
       "47                   BONNEFOY              10      5270.000938   \n",
       "48  RANGUEIL - CHR - FACULTES               0     12274.002244   \n",
       "49       PONT-DES-DEMOISELLES               2      5632.001026   \n",
       "50              SAINT-ETIENNE              23      3154.500534   \n",
       "51                 LA CEPIERE               0      3054.500516   \n",
       "52          BARRIERE-DE-PARIS              11      5770.562907   \n",
       "53                 LES IZARDS               0      2627.000475   \n",
       "54       JUNCASSE - ARGOULETS               1      4036.000750   \n",
       "55              BELLEFONTAINE               5      3015.500550   \n",
       "56              LA FOURGUETTE               0      2818.000488   \n",
       "57                SAINT-SIMON               0      3981.500729   \n",
       "58                     PURPAN               1      4723.500820   \n",
       "59                   LARDENNE               1      4160.000747   \n",
       "\n",
       "    surface_region  distance    population  \n",
       "0     5.013747e+05  2.608506   5947.884723  \n",
       "1     3.882656e+05  0.782908   7784.300731  \n",
       "2     4.294602e+05  0.334373   6785.683426  \n",
       "3     7.083979e+05  4.169789   5440.125631  \n",
       "4     6.204326e+05  0.458999   8637.299554  \n",
       "5     8.261592e+05  1.659888  10304.836667  \n",
       "6     1.088998e+06  3.338641   6461.204101  \n",
       "7     7.254467e+05  1.865657  10343.845566  \n",
       "8     2.166095e+06  2.777995  11632.813500  \n",
       "9     1.222647e+06  3.163299   9483.206996  \n",
       "10    1.034261e+06  5.170554   8450.170463  \n",
       "11    5.227392e+05  0.938590   5895.583644  \n",
       "12    1.063312e+06  1.625520   6697.574717  \n",
       "13    1.684929e+06  4.950644   6519.309143  \n",
       "14    7.952080e+05  1.277320   7722.934779  \n",
       "15    8.354358e+06  5.999163    886.830388  \n",
       "16    9.389329e+05  1.746942   9895.148623  \n",
       "17    3.137484e+06  4.991920   1130.741274  \n",
       "18    1.240302e+06  1.698468  12250.559053  \n",
       "19    2.614596e+06  1.883002  24746.496785  \n",
       "20    3.016420e+06  5.444858   9597.636361  \n",
       "21    1.052660e+06  4.443604   4231.112350  \n",
       "22    2.807627e+05  0.400009   4079.177290  \n",
       "23    1.273803e+06  4.049129   7132.878625  \n",
       "24    4.623839e+05  3.324330   3510.931495  \n",
       "25    6.375130e+06  4.213763  24302.900203  \n",
       "26    3.894602e+05  3.619045   3873.735431  \n",
       "27    1.266145e+06  3.084772  10626.629550  \n",
       "28    6.568076e+06  6.060693   4139.692319  \n",
       "29    1.794242e+06  2.436582  12258.562286  \n",
       "30    4.562210e+05  2.701716   3731.087920  \n",
       "31    1.880912e+06  3.311762   8991.611546  \n",
       "32    1.369109e+06  1.840895  13252.082558  \n",
       "33    4.696343e+05  1.048763   4483.553052  \n",
       "34    1.739778e+06  2.652125   1446.691142  \n",
       "35    2.072572e+06  3.062701   6675.996723  \n",
       "36    5.016380e+05  3.648242   4971.807733  \n",
       "37    9.217802e+06  5.590438  12352.894588  \n",
       "38    5.199457e+05  1.002490   8210.551665  \n",
       "39    6.966582e+06  5.130216   1054.221859  \n",
       "40    2.827545e+06  6.515886   4174.897011  \n",
       "41    6.217067e+05  0.855068   8873.386288  \n",
       "42    6.885608e+05  1.915617   6231.662044  \n",
       "43    3.144136e+06  6.201040   2832.905783  \n",
       "44    5.000968e+05  2.937938   2880.127126  \n",
       "45    5.174945e+05  2.856579   5801.535491  \n",
       "46    3.761575e+05  2.462170   4628.072072  \n",
       "47    1.517738e+06  1.908641   8881.035675  \n",
       "48    6.262251e+06  4.715325  17862.615592  \n",
       "49    1.594903e+06  3.192372  10161.691302  \n",
       "50    3.824110e+05  0.899938   4990.556793  \n",
       "51    1.470829e+06  3.301301   5280.742667  \n",
       "52    3.239690e+06  3.416341  10258.560232  \n",
       "53    9.617798e+05  3.952908   4828.287823  \n",
       "54    2.131942e+06  2.974108   7262.303142  \n",
       "55    7.911780e+05  5.828054   7794.563230  \n",
       "56    1.520634e+06  5.309784   5302.231981  \n",
       "57    4.983590e+06  7.380790   9141.129417  \n",
       "58    2.153357e+06  3.775590   7725.988695  \n",
       "59    4.673952e+06  4.827890   7445.403175  "
      ]
     },
     "execution_count": 3,
     "metadata": {},
     "output_type": "execute_result"
    }
   ],
   "source": [
    "dataset=pd.read_csv(\"population_dataset.csv\")\n",
    "dataset.drop(['Unnamed: 0'], axis=1,inplace=True)\n",
    "dataset"
   ]
  },
  {
   "cell_type": "code",
   "execution_count": 4,
   "metadata": {},
   "outputs": [
    {
     "data": {
      "image/png": "[encoded data removed]",
      "text/plain": [
       "<Figure size 432x288 with 2 Axes>"
      ]
     },
     "metadata": {
      "needs_background": "light"
     },
     "output_type": "display_data"
    },
    {
     "data": {
      "text/plain": [
       "<Figure size 1080x360 with 0 Axes>"
      ]
     },
     "metadata": {},
     "output_type": "display_data"
    }
   ],
   "source": [
    "g = sns.heatmap(dataset.corr(),annot=True, fmt = \".2f\", cmap = \"coolwarm\")\n",
    "plt.figure(figsize=(15,5));"
   ]
  },
  {
   "cell_type": "code",
   "execution_count": 5,
   "metadata": {},
   "outputs": [],
   "source": [
    "X_value = np.array(dataset[dataset.columns[1:]])"
   ]
  },
  {
   "cell_type": "code",
   "execution_count": 6,
   "metadata": {},
   "outputs": [],
   "source": [
    "X=preprocessing.scale(X_value)"
   ]
  },
  {
   "cell_type": "code",
   "execution_count": 7,
   "metadata": {
    "scrolled": true
   },
   "outputs": [
    {
     "data": {
      "text/plain": [
       "array([[-0.19760128, -0.25144022, -0.70945625, -0.3593596 , -0.3734327 ],\n",
       "       [ 1.26365187,  0.42997135, -0.7641606 , -1.41677951,  0.03225329],\n",
       "       [ 3.52195218,  0.16864018, -0.74423715, -1.67657946, -0.18835307],\n",
       "       [-0.43007337, -0.7155875 , -0.60933106,  0.54496461, -0.48560268],\n",
       "       [ 3.35590069,  0.58709514, -0.6518748 , -1.60439362,  0.2206908 ],\n",
       "       [ 0.4333944 ,  0.74512198, -0.55237666, -0.90881659,  0.58906944],\n",
       "       [-0.29723217, -0.26895862, -0.42525673,  0.06354826, -0.26003439],\n",
       "       [ 0.4001841 ,  1.09585117, -0.60108551, -0.78963138,  0.59768697],\n",
       "       [-0.39686307,  0.92482102,  0.09567323, -0.26118857,  0.88243521],\n",
       "       [-0.39686307,  0.2481051 , -0.36061818, -0.03801321,  0.40756174],\n",
       "       [-0.49649397, -0.42048374, -0.45172992,  1.12462593,  0.17935177],\n",
       "       [ 2.69169471, -0.07752044, -0.69912347, -1.32660578, -0.38498662],\n",
       "       [-0.33044247,  0.03102141, -0.43767958, -0.92872319, -0.20781732],\n",
       "       [-0.46328367, -0.50970115, -0.13703937,  0.99724981, -0.2471983 ],\n",
       "       [ 0.3337635 ,  0.30842618, -0.56734597, -1.13040714,  0.01869682],\n",
       "       [-0.49649397, -1.47650337,  3.08857946,  1.60457163, -1.49147937],\n",
       "       [-0.33044247,  0.47476068, -0.49783452, -0.85839336,  0.49856451],\n",
       "       [-0.49649397, -1.48650552,  0.56547817,  1.0211578 , -1.43759657],\n",
       "       [-0.36365277,  1.2383462 , -0.35207987, -0.88647045,  1.01890249],\n",
       "       [ 0.20092231,  3.83197242,  0.31258742, -0.77958509,  3.77940271],\n",
       "       [-0.46328367,  0.22733585,  0.50692644,  1.28350785,  0.43284054],\n",
       "       [-0.49649397, -0.80805577, -0.44283109,  0.70356307, -0.75268799],\n",
       "       [ 3.35590069, -0.50103228, -0.81615355, -1.63856208, -0.78625224],\n",
       "       [-0.46328367, -0.18335322, -0.33587727,  0.47507612, -0.11165355],\n",
       "       [-0.36365277, -0.75423635, -0.72831384,  0.05525877, -0.91178445],\n",
       "       [-0.13118068,  2.92390528,  2.13134092,  0.57043479,  3.68140699],\n",
       "       [-0.46328367, -0.93772805, -0.76358283,  0.22596353, -0.83163677],\n",
       "       [-0.39686307,  0.58890118, -0.33958098, -0.08349752,  0.66015729],\n",
       "       [-0.43007337, -0.71936431,  2.22465768,  1.64021098, -0.77288375],\n",
       "       [-0.46328367,  0.82837952, -0.08417065, -0.45894122,  1.0206705 ],\n",
       "       [-0.49649397, -0.94910597, -0.7312945 , -0.30537041, -0.86314929],\n",
       "       [-0.49649397,  0.13324219, -0.0422537 ,  0.04797956,  0.2989625 ],\n",
       "       [-0.19760128,  1.18163716, -0.28978328, -0.80397393,  1.24015086],\n",
       "       [ 0.89833858, -0.45407573, -0.72480724, -1.2627917 , -0.69692086],\n",
       "       [-0.49649397, -1.25269804, -0.11051181, -0.33409475, -1.36779952],\n",
       "       [-0.46328367, -0.2944235 ,  0.05044156, -0.09628124, -0.21258416],\n",
       "       [-0.49649397, -0.80101229, -0.70932891,  0.24287493, -0.58905963],\n",
       "       [-0.49649397,  0.91831936,  3.50617788,  1.36783033,  1.04150962],\n",
       "       [ 0.499815  ,  0.33425227, -0.7004745 , -1.28959354,  0.12641715],\n",
       "       [-0.49649397, -1.54841466,  2.41739211,  1.10126131, -1.45450062],\n",
       "       [-0.49649397, -0.74267782,  0.4155785 ,  1.90386743, -0.76510662],\n",
       "       [ 2.42601232,  0.84192465, -0.65125856, -1.3749833 ,  0.27284515],\n",
       "       [-0.39686307, -0.23590843, -0.61892513, -0.76069401, -0.31074294],\n",
       "       [-0.49649397, -1.02008259,  0.56869536,  1.7215025 , -1.06156833],\n",
       "       [-0.49649397, -1.06053745, -0.71007431, -0.16854664, -1.05113658],\n",
       "       [-0.43007337, -0.47592857, -0.70166001, -0.21567131, -0.40576297],\n",
       "       [-0.39686307, -0.55828311, -0.77001662, -0.44412039, -0.6649949 ],\n",
       "       [-0.16439098,  0.25605159, -0.21790004, -0.76473438,  0.27453499],\n",
       "       [-0.49649397,  2.7859253 ,  2.07674788,  0.86094875,  2.25867206],\n",
       "       [-0.43007337,  0.38680749, -0.18057952, -0.0211738 ,  0.55744694],\n",
       "       [ 0.2673429 , -0.50807575, -0.76699213, -1.34899395, -0.58491774],\n",
       "       [-0.49649397, -0.54419616, -0.24058712,  0.04192004, -0.52081226],\n",
       "       [-0.13118068,  0.4368566 ,  0.61490941,  0.10855312,  0.57884643],\n",
       "       [-0.49649397, -0.69861091, -0.48678482,  0.41934297, -0.62076488],\n",
       "       [-0.46328367, -0.18967429,  0.07915548, -0.14759634, -0.08306215],\n",
       "       [-0.33044247, -0.55828311, -0.5692951 ,  1.50546207,  0.03452039],\n",
       "       [-0.49649397, -0.62962093, -0.21649925,  1.20527032, -0.51606501],\n",
       "       [-0.49649397, -0.20935992,  1.4583334 ,  2.40483551,  0.33199277],\n",
       "       [-0.46328367,  0.05865352,  0.08951234,  0.31663691,  0.01937147],\n",
       "       [-0.46328367, -0.14488499,  1.30857913,  0.92614859, -0.04261319]])"
      ]
     },
     "execution_count": 7,
     "metadata": {},
     "output_type": "execute_result"
    }
   ],
   "source": [
    "X"
   ]
  },
  {
   "cell_type": "code",
   "execution_count": 8,
   "metadata": {},
   "outputs": [
    {
     "data": {
      "text/plain": [
       "PCA(copy=True, iterated_power='auto', n_components=None, random_state=None,\n",
       "    svd_solver='auto', tol=0.0, whiten=False)"
      ]
     },
     "execution_count": 8,
     "metadata": {},
     "output_type": "execute_result"
    }
   ],
   "source": [
    "pca = PCA()\n",
    "pca.fit(X)"
   ]
  },
  {
   "cell_type": "code",
   "execution_count": 9,
   "metadata": {},
   "outputs": [
    {
     "data": {
      "text/plain": [
       "array([0.43671711, 0.38629376, 0.13266161, 0.04103265, 0.00329487])"
      ]
     },
     "execution_count": 9,
     "metadata": {},
     "output_type": "execute_result"
    }
   ],
   "source": [
    "pca.explained_variance_ratio_"
   ]
  },
  {
   "cell_type": "code",
   "execution_count": 10,
   "metadata": {},
   "outputs": [
    {
     "data": {
      "text/plain": [
       "array([0.43671711, 0.82301087, 0.95567248, 0.99670513, 1.        ])"
      ]
     },
     "execution_count": 10,
     "metadata": {},
     "output_type": "execute_result"
    }
   ],
   "source": [
    "var_cum = pca.explained_variance_ratio_.cumsum()\n",
    "var_cum"
   ]
  },
  {
   "cell_type": "code",
   "execution_count": 11,
   "metadata": {},
   "outputs": [
    {
     "data": {
      "image/png": "[encoded data removed]",
      "text/plain": [
       "<Figure size 432x288 with 1 Axes>"
      ]
     },
     "metadata": {
      "needs_background": "light"
     },
     "output_type": "display_data"
    }
   ],
   "source": [
    "pos=np.arange(5)\n",
    "fig,ax=plt.subplots()\n",
    "fig=plt.bar(pos,var_cum)\n",
    "for i, v in enumerate(var_cum):\n",
    "    ax.text(i-0.2, v+0.03,\"{:.2f}%\" .format(v*100), color='red', fontweight='bold')\n",
    "    \n",
    "ax.set_xlabel('Propriete');\n",
    "ax.set_ylabel('Poid Cumule');"
   ]
  },
  {
   "cell_type": "code",
   "execution_count": 12,
   "metadata": {},
   "outputs": [
    {
     "data": {
      "text/plain": [
       "array([[-1.79477359e-02, -7.51276576e-01, -5.46594016e-01,\n",
       "        -7.40404735e-02,  7.21269858e-02],\n",
       "       [ 1.71018316e+00, -1.14788850e+00,  3.09675243e-01,\n",
       "        -1.62001702e-01,  9.70541341e-02],\n",
       "       [ 2.55058061e+00, -2.21735161e+00,  2.04778769e+00,\n",
       "         4.62879463e-01, -5.54051850e-02],\n",
       "       [-9.14532058e-01, -5.48358292e-01, -5.30585312e-01,\n",
       "         4.22887960e-01, -6.07338223e-02],\n",
       "       [ 2.82554628e+00, -1.68781493e+00,  1.88947633e+00,\n",
       "         5.01470333e-01, -2.12118804e-02],\n",
       "       [ 1.45919300e+00, -1.40498021e-01, -2.50965584e-01,\n",
       "        -9.01669993e-02,  3.17825986e-02],\n",
       "       [-3.12086209e-01, -3.58222275e-01, -4.24107367e-01,\n",
       "         8.29453075e-02,  2.67818361e-02],\n",
       "       [ 1.58263516e+00,  4.95915897e-02, -3.25876554e-01,\n",
       "         2.17913712e-02,  2.98704798e-01],\n",
       "       [ 8.35324832e-01,  9.54632548e-01, -4.71170658e-01,\n",
       "        -1.90105306e-01,  4.03268459e-02],\n",
       "       [ 2.58756349e-01,  2.47482118e-01, -6.13373271e-01,\n",
       "         8.76210078e-02, -6.74316899e-02],\n",
       "       [-8.31949168e-01,  2.49329545e-01, -5.63829681e-01,\n",
       "         8.94825029e-01, -2.26722092e-01],\n",
       "       [ 1.78772992e+00, -1.99763357e+00,  1.53364776e+00,\n",
       "         3.29891569e-01, -2.60582562e-02],\n",
       "       [ 3.84631475e-01, -5.62727982e-01, -5.68046942e-01,\n",
       "        -6.43964415e-01,  7.38994262e-02],\n",
       "       [-1.06884516e+00,  9.78948946e-02, -2.74352936e-01,\n",
       "         5.65669130e-01, -3.94525204e-02],\n",
       "       [ 1.05031932e+00, -6.87541131e-01, -2.27138668e-01,\n",
       "        -4.15996436e-01,  7.77664875e-02],\n",
       "       [-3.27699520e+00,  9.79085789e-01,  2.06814697e+00,\n",
       "        -8.89106169e-01, -2.02984591e-03],\n",
       "       [ 9.15981056e-01, -5.26629656e-03, -7.48544133e-01,\n",
       "        -4.04111823e-01, -7.18411996e-02],\n",
       "       [-2.32317974e+00, -5.59076018e-01,  4.15073251e-01,\n",
       "        -5.22793811e-02,  2.58575161e-02],\n",
       "       [ 1.51851380e+00,  6.82364810e-01, -8.26396257e-01,\n",
       "        -3.82444855e-01,  1.14001427e-01],\n",
       "       [ 4.14956342e+00,  3.47216113e+00, -6.19583323e-01,\n",
       "         2.24884128e-01,  6.70462899e-02],\n",
       "       [-6.84103010e-01,  1.22785315e+00, -1.01133251e-02,\n",
       "         6.17532017e-01,  3.10278520e-02],\n",
       "       [-1.23741253e+00, -5.57911068e-01, -4.12031273e-01,\n",
       "         3.74593757e-01,  6.74921802e-02],\n",
       "       [ 1.85533522e+00, -2.79387884e+00,  2.02918447e+00,\n",
       "         3.20763980e-01, -1.17391549e-01],\n",
       "       [-5.09581797e-01,  1.29512495e-02, -4.89337360e-01,\n",
       "         3.12997099e-01,  4.43616980e-02],\n",
       "       [-8.11186501e-01, -1.05416400e+00, -5.24007732e-01,\n",
       "         5.49190184e-02,  1.38115163e-01],\n",
       "       [ 2.32188169e+00,  4.59971231e+00,  4.78692665e-01,\n",
       "         1.46499765e-01, -4.33706189e-01],\n",
       "       [-9.94848885e-01, -1.01634992e+00, -6.05827429e-01,\n",
       "         1.72068168e-01, -1.94380757e-02],\n",
       "       [ 5.71486465e-01,  5.24259670e-01, -6.70816836e-01,\n",
       "         1.04685268e-01, -6.41174291e-04],\n",
       "       [-2.32979816e+00,  1.21906242e+00,  1.39897120e+00,\n",
       "        -2.36106097e-01,  1.10689181e-01],\n",
       "       [ 9.68859866e-01,  8.35958320e-01, -6.65335107e-01,\n",
       "        -2.47933576e-01, -1.36626447e-01],\n",
       "       [-7.55352648e-01, -1.20733297e+00, -6.46819095e-01,\n",
       "        -2.59738331e-01, -7.95510692e-02],\n",
       "       [-1.71075624e-02,  3.74977939e-01, -4.52978367e-01,\n",
       "        -7.17861334e-02, -8.05106066e-02],\n",
       "       [ 1.59929935e+00,  7.80258167e-01, -6.87124790e-01,\n",
       "        -2.43598130e-01, -7.47895395e-02],\n",
       "       [ 6.70174937e-01, -1.71892834e+00,  2.59482820e-01,\n",
       "        -3.84052912e-01, -1.43876567e-02],\n",
       "       [-1.28251718e+00, -1.28373942e+00, -1.51126033e-01,\n",
       "        -7.03408508e-01,  2.55254732e-03],\n",
       "       [-4.06644839e-01, -9.56993117e-02, -2.65459169e-01,\n",
       "        -3.29653450e-01, -6.83011885e-02],\n",
       "       [-8.49251270e-01, -7.83600021e-01, -6.44569723e-01,\n",
       "         1.98202555e-01, -8.51048388e-02],\n",
       "       [-8.46573551e-01,  3.49114949e+00,  1.72033088e+00,\n",
       "        -6.86928832e-01, -5.08037958e-02],\n",
       "       [ 1.29962319e+00, -8.05827673e-01, -2.19233243e-01,\n",
       "        -3.80498347e-01,  4.00651812e-03],\n",
       "       [-2.86489422e+00,  4.21169039e-01,  1.60229859e+00,\n",
       "        -9.23232498e-01, -1.07266474e-01],\n",
       "       [-2.05771227e+00,  3.69136991e-01,  2.24792894e-01,\n",
       "         8.39388056e-01,  2.35234684e-01],\n",
       "       [ 2.47233659e+00, -1.15164997e+00,  1.18390281e+00,\n",
       "         3.27262650e-01,  1.89898886e-01],\n",
       "       [ 1.25568364e-01, -7.46703632e-01, -6.81803411e-01,\n",
       "        -4.82796196e-01, -1.24962307e-02],\n",
       "       [-2.27935233e+00,  1.05800492e-01,  3.76431047e-01,\n",
       "         5.58330137e-01,  2.02271304e-01],\n",
       "       [-9.77001944e-01, -1.29202286e+00, -5.83550244e-01,\n",
       "        -2.10080037e-01, -1.50719540e-02],\n",
       "       [-3.26121367e-01, -7.32793240e-01, -6.81477280e-01,\n",
       "        -7.45867855e-02, -4.04973240e-02],\n",
       "       [-3.35030133e-01, -1.03626182e+00, -6.70168628e-01,\n",
       "        -2.53168399e-01,  4.75718045e-02],\n",
       "       [ 6.49798279e-01, -8.99523436e-02, -3.86370709e-01,\n",
       "        -4.61557289e-01, -8.72277213e-02],\n",
       "       [ 1.31091613e+00,  4.00241037e+00,  4.33089848e-01,\n",
       "        -4.77169918e-02,  4.85763750e-01],\n",
       "       [ 3.32238598e-01,  5.00109567e-01, -5.57703557e-01,\n",
       "         3.19101910e-02, -7.64456391e-02],\n",
       "       [ 4.84612070e-01, -1.52921575e+00, -2.60258715e-01,\n",
       "        -6.51982523e-01, -1.16782237e-01],\n",
       "       [-6.92832682e-01, -4.59024116e-01, -3.94670947e-01,\n",
       "        -1.64472971e-01, -1.94997355e-03],\n",
       "       [ 2.27425838e-01,  9.05999493e-01,  1.73062342e-01,\n",
       "        -1.46508152e-01, -9.50779243e-02],\n",
       "       [-9.58452823e-01, -5.70142347e-01, -4.92345822e-01,\n",
       "         2.14916273e-01,  2.08077986e-02],\n",
       "       [-2.72723410e-01,  1.41899725e-02, -2.80339258e-01,\n",
       "        -3.52715805e-01, -8.93293384e-02],\n",
       "       [-1.07336994e+00,  1.36825854e-01, -4.49526104e-01,\n",
       "         1.26854243e+00, -1.74524798e-01],\n",
       "       [-1.35831507e+00, -4.85158243e-02, -2.80382488e-01,\n",
       "         6.88920378e-01,  9.05599548e-02],\n",
       "       [-1.80375149e+00,  1.91682342e+00,  7.07794892e-01,\n",
       "         9.31617545e-01, -1.17944096e-01],\n",
       "       [-3.44288365e-01,  3.56178372e-01, -2.72425292e-01,\n",
       "         1.61073901e-02,  8.27413797e-02],\n",
       "       [-1.10475572e+00,  1.10999994e+00,  5.74524936e-01,\n",
       "        -1.57382454e-01, -1.16907127e-02]])"
      ]
     },
     "execution_count": 12,
     "metadata": {},
     "output_type": "execute_result"
    }
   ],
   "source": [
    "X_pca=pca.fit_transform(X)\n",
    "X_pca"
   ]
  },
  {
   "cell_type": "code",
   "execution_count": 13,
   "metadata": {},
   "outputs": [
    {
     "data": {
      "image/png": "[encoded data removed]",
      "text/plain": [
       "<Figure size 432x288 with 1 Axes>"
      ]
     },
     "metadata": {
      "needs_background": "light"
     },
     "output_type": "display_data"
    }
   ],
   "source": [
    "cost =[] \n",
    "for i in range(1, 11): \n",
    "    KM = KMeans(n_clusters = i, max_iter = 500) \n",
    "    KM.fit(X_pca) \n",
    "      \n",
    "    # calculates squared error \n",
    "    # for the clustered points \n",
    "    cost.append(KM.inertia_)      \n",
    "  \n",
    "# plot the cost against K values \n",
    "plt.plot(range(1, 11), cost, color ='g', linewidth ='3') \n",
    "plt.xlabel(\"Value of K\") \n",
    "plt.ylabel(\"Sqaured Error (Cost)\") ;\n",
    "  \n",
    "# the point of the elbow is the  \n",
    "# most optimal value for choosing k "
   ]
  },
  {
   "cell_type": "code",
   "execution_count": 14,
   "metadata": {},
   "outputs": [],
   "source": [
    "KM = KMeans(n_clusters = 4, max_iter = 500) \n",
    "y_pred=KM.fit_predict(X_pca) "
   ]
  },
  {
   "cell_type": "code",
   "execution_count": 15,
   "metadata": {},
   "outputs": [
    {
     "data": {
      "text/plain": [
       "array([1, 2, 2, 1, 2, 1, 1, 1, 1, 1, 1, 2, 1, 1, 1, 0, 1, 0, 1, 3, 0, 1,\n",
       "       2, 1, 1, 3, 1, 1, 0, 1, 1, 1, 1, 1, 1, 1, 1, 0, 1, 0, 0, 2, 1, 0,\n",
       "       1, 1, 1, 1, 3, 1, 1, 1, 1, 1, 1, 1, 1, 0, 1, 0])"
      ]
     },
     "execution_count": 15,
     "metadata": {},
     "output_type": "execute_result"
    }
   ],
   "source": [
    "y_pred"
   ]
  },
  {
   "cell_type": "code",
   "execution_count": 23,
   "metadata": {
    "scrolled": true
   },
   "outputs": [
    {
     "data": {
      "image/png": "[encoded data removed]",
      "text/plain": [
       "<Figure size 432x288 with 1 Axes>"
      ]
     },
     "metadata": {
      "needs_background": "light"
     },
     "output_type": "display_data"
    }
   ],
   "source": [
    "%matplotlib inline\n",
    "fig, axs = plt.subplots()\n",
    "fig=plt.scatter(X_pca[:, 0], X_pca[:, 1],c=y_pred)\n",
    "axs.set_title('distribution sur les deux premieres echelles');"
   ]
  },
  {
   "cell_type": "code",
   "execution_count": 25,
   "metadata": {},
   "outputs": [
    {
     "data": {
      "application/vnd.plotly.v1+json": {
       "config": {
        "plotlyServerURL": "https://plot.ly"
       },
       "data": [
        {
         "marker": {
          "color": "rgb(215,25,28)",
          "opacity": 0.95,
          "size": 12
         },
         "mode": "markers",
         "name": "class 0",
         "type": "scatter3d",
         "x": [
          -3.276995203749471,
          -2.323179738948457,
          -0.6841030098898158,
          -2.329798162965161,
          -0.8465735509889079,
          -2.864894218110486,
          -2.0577122721920715,
          -2.279352331440391,
          -1.8037514897832467,
          -1.1047557152546488
         ],
         "y": [
          0.9790857893273435,
          -0.5590760176248486,
          1.2278531490673428,
          1.2190624220895303,
          3.49114948669963,
          0.4211690393388862,
          0.36913699091653485,
          0.10580049157183916,
          1.9168234241583808,
          1.1099999377068954
         ],
         "z": [
          2.068146970219456,
          0.4150732513353032,
          -0.010113325143765789,
          1.3989711957767137,
          1.72033088073343,
          1.6022985943303076,
          0.224792893650214,
          0.376431046936794,
          0.7077948919913377,
          0.5745249356963117
         ]
        },
        {
         "marker": {
          "color": "rgb(253,174,97)",
          "opacity": 0.95,
          "size": 12
         },
         "mode": "markers",
         "name": "class 1",
         "type": "scatter3d",
         "x": [
          -0.01794773587618695,
          -0.914532057958727,
          1.4591929982159104,
          -0.31208620909056495,
          1.5826351590365606,
          0.8353248320734741,
          0.25875634912086964,
          -0.8319491679257318,
          0.3846314754778948,
          -1.0688451608083938,
          1.0503193204829515,
          0.9159810559501194,
          1.5185137964572077,
          -1.2374125279054595,
          -0.5095817965997907,
          -0.8111865011718488,
          -0.9948488848285697,
          0.5714864651046163,
          0.9688598659732974,
          -0.7553526481506945,
          -0.017107562434029656,
          1.5992993500023394,
          0.670174937234419,
          -1.2825171786608567,
          -0.4066448394070855,
          -0.8492512695506897,
          1.2996231923697943,
          0.12556836353469722,
          -0.9770019443781461,
          -0.3261213671593368,
          -0.3350301329774724,
          0.6497982792340087,
          0.33223859812393736,
          0.4846120697161602,
          -0.692832681567234,
          0.22742583829035798,
          -0.9584528227146965,
          -0.2727234100441465,
          -1.0733699440726079,
          -1.358315066903165,
          -0.3442883649078513
         ],
         "y": [
          -0.7512765755815155,
          -0.5483582919017157,
          -0.14049802079828796,
          -0.3582222752610786,
          0.04959158966447511,
          0.9546325484676105,
          0.24748211820744362,
          0.24932954491524872,
          -0.5627279820325191,
          0.097894894635127,
          -0.6875411308801,
          -0.005266296555328621,
          0.6823648100359541,
          -0.557911067904544,
          0.01295124949617312,
          -1.0541639992355123,
          -1.0163499174177884,
          0.5242596700202171,
          0.8359583197488755,
          -1.207332970796511,
          0.37497793868253754,
          0.7802581671941191,
          -1.718928340010831,
          -1.2837394161083215,
          -0.09569931167041312,
          -0.7836000206671913,
          -0.8058276734354748,
          -0.7467036318249166,
          -1.292022861083096,
          -0.7327932397809404,
          -1.036261820118587,
          -0.0899523436086646,
          0.5001095670333678,
          -1.5292157467809186,
          -0.45902411577144026,
          0.9059994931815484,
          -0.5701423467410272,
          0.01418997245677436,
          0.13682585359107893,
          -0.04851582433788331,
          0.35617837172997124
         ],
         "z": [
          -0.5465940163486447,
          -0.530585312338771,
          -0.25096558378591516,
          -0.42410736673482063,
          -0.32587655397147297,
          -0.47117065784984374,
          -0.6133732706339925,
          -0.5638296809718003,
          -0.568046941908475,
          -0.27435293560339563,
          -0.22713866780372688,
          -0.7485441326728047,
          -0.8263962569513943,
          -0.4120312731519802,
          -0.4893373601191704,
          -0.524007731878414,
          -0.6058274285158731,
          -0.6708168362213319,
          -0.6653351073202846,
          -0.6468190949296215,
          -0.45297836658290364,
          -0.6871247902634333,
          0.2594828202629844,
          -0.15112603255681303,
          -0.2654591693523674,
          -0.6445697232819304,
          -0.21923324348240547,
          -0.6818034109370975,
          -0.5835502442378829,
          -0.6814772799054376,
          -0.6701686283920858,
          -0.3863707092643121,
          -0.5577035569023423,
          -0.2602587151184692,
          -0.39467094727702606,
          0.1730623418524617,
          -0.4923458215257084,
          -0.28033925835297324,
          -0.4495261036626127,
          -0.2803824879422393,
          -0.27242529217350575
         ]
        },
        {
         "marker": {
          "color": "rgb(171,221,164)",
          "opacity": 0.95,
          "size": 12
         },
         "mode": "markers",
         "name": "class 2",
         "type": "scatter3d",
         "x": [
          1.7101831632627098,
          2.550580613607178,
          2.825546276569964,
          1.7877299163291096,
          1.855335220104406,
          2.472336594802735
         ],
         "y": [
          -1.147888503046782,
          -2.2173516095637,
          -1.6878149276041192,
          -1.997633567028456,
          -2.7938788440586206,
          -1.1516499712532038
         ],
         "z": [
          0.3096752427068567,
          2.047787693483963,
          1.8894763251886768,
          1.5336477648369748,
          2.0291844687612164,
          1.1839028086695402
         ]
        },
        {
         "marker": {
          "color": "rgb(43,131,186)",
          "opacity": 0.95,
          "size": 12
         },
         "mode": "markers",
         "name": "class 3",
         "type": "scatter3d",
         "x": [
          4.14956341638611,
          2.321881691801864,
          1.3109161291532547
         ],
         "y": [
          3.47216113385125,
          4.5997123146939884,
          4.002410372002198
         ],
         "z": [
          -0.6195833226601868,
          0.4786926645697644,
          0.4330898477249246
         ]
        }
       ],
       "layout": {
        "margin": {
         "b": 10,
         "l": 10,
         "r": 20,
         "t": 10
        },
        "scene": {
         "xaxis": {
          "title": {
           "text": "PCA 0"
          }
         },
         "yaxis": {
          "title": {
           "text": "PCA 1"
          }
         },
         "zaxis": {
          "title": {
           "text": "PCA 2"
          }
         }
        },
        "template": {
         "data": {
          "bar": [
           {
            "error_x": {
             "color": "#2a3f5f"
            },
            "error_y": {
             "color": "#2a3f5f"
            },
            "marker": {
             "line": {
              "color": "#E5ECF6",
              "width": 0.5
             }
            },
            "type": "bar"
           }
          ],
          "barpolar": [
           {
            "marker": {
             "line": {
              "color": "#E5ECF6",
              "width": 0.5
             }
            },
            "type": "barpolar"
           }
          ],
          "carpet": [
           {
            "aaxis": {
             "endlinecolor": "#2a3f5f",
             "gridcolor": "white",
             "linecolor": "white",
             "minorgridcolor": "white",
             "startlinecolor": "#2a3f5f"
            },
            "baxis": {
             "endlinecolor": "#2a3f5f",
             "gridcolor": "white",
             "linecolor": "white",
             "minorgridcolor": "white",
             "startlinecolor": "#2a3f5f"
            },
            "type": "carpet"
           }
          ],
          "choropleth": [
           {
            "colorbar": {
             "outlinewidth": 0,
             "ticks": ""
            },
            "type": "choropleth"
           }
          ],
          "contour": [
           {
            "colorbar": {
             "outlinewidth": 0,
             "ticks": ""
            },
            "colorscale": [
             [
              0,
              "#0d0887"
             ],
             [
              0.1111111111111111,
              "#46039f"
             ],
             [
              0.2222222222222222,
              "#7201a8"
             ],
             [
              0.3333333333333333,
              "#9c179e"
             ],
             [
              0.4444444444444444,
              "#bd3786"
             ],
             [
              0.5555555555555556,
              "#d8576b"
             ],
             [
              0.6666666666666666,
              "#ed7953"
             ],
             [
              0.7777777777777778,
              "#fb9f3a"
             ],
             [
              0.8888888888888888,
              "#fdca26"
             ],
             [
              1,
              "#f0f921"
             ]
            ],
            "type": "contour"
           }
          ],
          "contourcarpet": [
           {
            "colorbar": {
             "outlinewidth": 0,
             "ticks": ""
            },
            "type": "contourcarpet"
           }
          ],
          "heatmap": [
           {
            "colorbar": {
             "outlinewidth": 0,
             "ticks": ""
            },
            "colorscale": [
             [
              0,
              "#0d0887"
             ],
             [
              0.1111111111111111,
              "#46039f"
             ],
             [
              0.2222222222222222,
              "#7201a8"
             ],
             [
              0.3333333333333333,
              "#9c179e"
             ],
             [
              0.4444444444444444,
              "#bd3786"
             ],
             [
              0.5555555555555556,
              "#d8576b"
             ],
             [
              0.6666666666666666,
              "#ed7953"
             ],
             [
              0.7777777777777778,
              "#fb9f3a"
             ],
             [
              0.8888888888888888,
              "#fdca26"
             ],
             [
              1,
              "#f0f921"
             ]
            ],
            "type": "heatmap"
           }
          ],
          "heatmapgl": [
           {
            "colorbar": {
             "outlinewidth": 0,
             "ticks": ""
            },
            "colorscale": [
             [
              0,
              "#0d0887"
             ],
             [
              0.1111111111111111,
              "#46039f"
             ],
             [
              0.2222222222222222,
              "#7201a8"
             ],
             [
              0.3333333333333333,
              "#9c179e"
             ],
             [
              0.4444444444444444,
              "#bd3786"
             ],
             [
              0.5555555555555556,
              "#d8576b"
             ],
             [
              0.6666666666666666,
              "#ed7953"
             ],
             [
              0.7777777777777778,
              "#fb9f3a"
             ],
             [
              0.8888888888888888,
              "#fdca26"
             ],
             [
              1,
              "#f0f921"
             ]
            ],
            "type": "heatmapgl"
           }
          ],
          "histogram": [
           {
            "marker": {
             "colorbar": {
              "outlinewidth": 0,
              "ticks": ""
             }
            },
            "type": "histogram"
           }
          ],
          "histogram2d": [
           {
            "colorbar": {
             "outlinewidth": 0,
             "ticks": ""
            },
            "colorscale": [
             [
              0,
              "#0d0887"
             ],
             [
              0.1111111111111111,
              "#46039f"
             ],
             [
              0.2222222222222222,
              "#7201a8"
             ],
             [
              0.3333333333333333,
              "#9c179e"
             ],
             [
              0.4444444444444444,
              "#bd3786"
             ],
             [
              0.5555555555555556,
              "#d8576b"
             ],
             [
              0.6666666666666666,
              "#ed7953"
             ],
             [
              0.7777777777777778,
              "#fb9f3a"
             ],
             [
              0.8888888888888888,
              "#fdca26"
             ],
             [
              1,
              "#f0f921"
             ]
            ],
            "type": "histogram2d"
           }
          ],
          "histogram2dcontour": [
           {
            "colorbar": {
             "outlinewidth": 0,
             "ticks": ""
            },
            "colorscale": [
             [
              0,
              "#0d0887"
             ],
             [
              0.1111111111111111,
              "#46039f"
             ],
             [
              0.2222222222222222,
              "#7201a8"
             ],
             [
              0.3333333333333333,
              "#9c179e"
             ],
             [
              0.4444444444444444,
              "#bd3786"
             ],
             [
              0.5555555555555556,
              "#d8576b"
             ],
             [
              0.6666666666666666,
              "#ed7953"
             ],
             [
              0.7777777777777778,
              "#fb9f3a"
             ],
             [
              0.8888888888888888,
              "#fdca26"
             ],
             [
              1,
              "#f0f921"
             ]
            ],
            "type": "histogram2dcontour"
           }
          ],
          "mesh3d": [
           {
            "colorbar": {
             "outlinewidth": 0,
             "ticks": ""
            },
            "type": "mesh3d"
           }
          ],
          "parcoords": [
           {
            "line": {
             "colorbar": {
              "outlinewidth": 0,
              "ticks": ""
             }
            },
            "type": "parcoords"
           }
          ],
          "pie": [
           {
            "automargin": true,
            "type": "pie"
           }
          ],
          "scatter": [
           {
            "marker": {
             "colorbar": {
              "outlinewidth": 0,
              "ticks": ""
             }
            },
            "type": "scatter"
           }
          ],
          "scatter3d": [
           {
            "line": {
             "colorbar": {
              "outlinewidth": 0,
              "ticks": ""
             }
            },
            "marker": {
             "colorbar": {
              "outlinewidth": 0,
              "ticks": ""
             }
            },
            "type": "scatter3d"
           }
          ],
          "scattercarpet": [
           {
            "marker": {
             "colorbar": {
              "outlinewidth": 0,
              "ticks": ""
             }
            },
            "type": "scattercarpet"
           }
          ],
          "scattergeo": [
           {
            "marker": {
             "colorbar": {
              "outlinewidth": 0,
              "ticks": ""
             }
            },
            "type": "scattergeo"
           }
          ],
          "scattergl": [
           {
            "marker": {
             "colorbar": {
              "outlinewidth": 0,
              "ticks": ""
             }
            },
            "type": "scattergl"
           }
          ],
          "scattermapbox": [
           {
            "marker": {
             "colorbar": {
              "outlinewidth": 0,
              "ticks": ""
             }
            },
            "type": "scattermapbox"
           }
          ],
          "scatterpolar": [
           {
            "marker": {
             "colorbar": {
              "outlinewidth": 0,
              "ticks": ""
             }
            },
            "type": "scatterpolar"
           }
          ],
          "scatterpolargl": [
           {
            "marker": {
             "colorbar": {
              "outlinewidth": 0,
              "ticks": ""
             }
            },
            "type": "scatterpolargl"
           }
          ],
          "scatterternary": [
           {
            "marker": {
             "colorbar": {
              "outlinewidth": 0,
              "ticks": ""
             }
            },
            "type": "scatterternary"
           }
          ],
          "surface": [
           {
            "colorbar": {
             "outlinewidth": 0,
             "ticks": ""
            },
            "colorscale": [
             [
              0,
              "#0d0887"
             ],
             [
              0.1111111111111111,
              "#46039f"
             ],
             [
              0.2222222222222222,
              "#7201a8"
             ],
             [
              0.3333333333333333,
              "#9c179e"
             ],
             [
              0.4444444444444444,
              "#bd3786"
             ],
             [
              0.5555555555555556,
              "#d8576b"
             ],
             [
              0.6666666666666666,
              "#ed7953"
             ],
             [
              0.7777777777777778,
              "#fb9f3a"
             ],
             [
              0.8888888888888888,
              "#fdca26"
             ],
             [
              1,
              "#f0f921"
             ]
            ],
            "type": "surface"
           }
          ],
          "table": [
           {
            "cells": {
             "fill": {
              "color": "#EBF0F8"
             },
             "line": {
              "color": "white"
             }
            },
            "header": {
             "fill": {
              "color": "#C8D4E3"
             },
             "line": {
              "color": "white"
             }
            },
            "type": "table"
           }
          ]
         },
         "layout": {
          "annotationdefaults": {
           "arrowcolor": "#2a3f5f",
           "arrowhead": 0,
           "arrowwidth": 1
          },
          "coloraxis": {
           "colorbar": {
            "outlinewidth": 0,
            "ticks": ""
           }
          },
          "colorscale": {
           "diverging": [
            [
             0,
             "#8e0152"
            ],
            [
             0.1,
             "#c51b7d"
            ],
            [
             0.2,
             "#de77ae"
            ],
            [
             0.3,
             "#f1b6da"
            ],
            [
             0.4,
             "#fde0ef"
            ],
            [
             0.5,
             "#f7f7f7"
            ],
            [
             0.6,
             "#e6f5d0"
            ],
            [
             0.7,
             "#b8e186"
            ],
            [
             0.8,
             "#7fbc41"
            ],
            [
             0.9,
             "#4d9221"
            ],
            [
             1,
             "#276419"
            ]
           ],
           "sequential": [
            [
             0,
             "#0d0887"
            ],
            [
             0.1111111111111111,
             "#46039f"
            ],
            [
             0.2222222222222222,
             "#7201a8"
            ],
            [
             0.3333333333333333,
             "#9c179e"
            ],
            [
             0.4444444444444444,
             "#bd3786"
            ],
            [
             0.5555555555555556,
             "#d8576b"
            ],
            [
             0.6666666666666666,
             "#ed7953"
            ],
            [
             0.7777777777777778,
             "#fb9f3a"
            ],
            [
             0.8888888888888888,
             "#fdca26"
            ],
            [
             1,
             "#f0f921"
            ]
           ],
           "sequentialminus": [
            [
             0,
             "#0d0887"
            ],
            [
             0.1111111111111111,
             "#46039f"
            ],
            [
             0.2222222222222222,
             "#7201a8"
            ],
            [
             0.3333333333333333,
             "#9c179e"
            ],
            [
             0.4444444444444444,
             "#bd3786"
            ],
            [
             0.5555555555555556,
             "#d8576b"
            ],
            [
             0.6666666666666666,
             "#ed7953"
            ],
            [
             0.7777777777777778,
             "#fb9f3a"
            ],
            [
             0.8888888888888888,
             "#fdca26"
            ],
            [
             1,
             "#f0f921"
            ]
           ]
          },
          "colorway": [
           "#636efa",
           "#EF553B",
           "#00cc96",
           "#ab63fa",
           "#FFA15A",
           "#19d3f3",
           "#FF6692",
           "#B6E880",
           "#FF97FF",
           "#FECB52"
          ],
          "font": {
           "color": "#2a3f5f"
          },
          "geo": {
           "bgcolor": "white",
           "lakecolor": "white",
           "landcolor": "#E5ECF6",
           "showlakes": true,
           "showland": true,
           "subunitcolor": "white"
          },
          "hoverlabel": {
           "align": "left"
          },
          "hovermode": "closest",
          "mapbox": {
           "style": "light"
          },
          "paper_bgcolor": "white",
          "plot_bgcolor": "#E5ECF6",
          "polar": {
           "angularaxis": {
            "gridcolor": "white",
            "linecolor": "white",
            "ticks": ""
           },
           "bgcolor": "#E5ECF6",
           "radialaxis": {
            "gridcolor": "white",
            "linecolor": "white",
            "ticks": ""
           }
          },
          "scene": {
           "xaxis": {
            "backgroundcolor": "#E5ECF6",
            "gridcolor": "white",
            "gridwidth": 2,
            "linecolor": "white",
            "showbackground": true,
            "ticks": "",
            "zerolinecolor": "white"
           },
           "yaxis": {
            "backgroundcolor": "#E5ECF6",
            "gridcolor": "white",
            "gridwidth": 2,
            "linecolor": "white",
            "showbackground": true,
            "ticks": "",
            "zerolinecolor": "white"
           },
           "zaxis": {
            "backgroundcolor": "#E5ECF6",
            "gridcolor": "white",
            "gridwidth": 2,
            "linecolor": "white",
            "showbackground": true,
            "ticks": "",
            "zerolinecolor": "white"
           }
          },
          "shapedefaults": {
           "line": {
            "color": "#2a3f5f"
           }
          },
          "ternary": {
           "aaxis": {
            "gridcolor": "white",
            "linecolor": "white",
            "ticks": ""
           },
           "baxis": {
            "gridcolor": "white",
            "linecolor": "white",
            "ticks": ""
           },
           "bgcolor": "#E5ECF6",
           "caxis": {
            "gridcolor": "white",
            "linecolor": "white",
            "ticks": ""
           }
          },
          "title": {
           "x": 0.05
          },
          "xaxis": {
           "automargin": true,
           "gridcolor": "white",
           "linecolor": "white",
           "ticks": "",
           "title": {
            "standoff": 15
           },
           "zerolinecolor": "white",
           "zerolinewidth": 2
          },
          "yaxis": {
           "automargin": true,
           "gridcolor": "white",
           "linecolor": "white",
           "ticks": "",
           "title": {
            "standoff": 15
           },
           "zerolinecolor": "white",
           "zerolinewidth": 2
          }
         }
        }
       }
      },
      "text/html": [
       "<div>\n",
       "        \n",
       "        \n",
       "            <div id=\"4909c793-60b9-446e-996f-aebb607bc5ee\" class=\"plotly-graph-div\" style=\"height:525px; width:100%;\"></div>\n",
       "            <script type=\"text/javascript\">\n",
       "                require([\"plotly\"], function(Plotly) {\n",
       "                    window.PLOTLYENV=window.PLOTLYENV || {};\n",
       "                    \n",
       "                if (document.getElementById(\"4909c793-60b9-446e-996f-aebb607bc5ee\")) {\n",
       "                    Plotly.newPlot(\n",
       "                        '4909c793-60b9-446e-996f-aebb607bc5ee',\n",
       "                        [{\"marker\": {\"color\": \"rgb(215,25,28)\", \"opacity\": 0.95, \"size\": 12}, \"mode\": \"markers\", \"name\": \"class 0\", \"type\": \"scatter3d\", \"x\": [-3.276995203749471, -2.323179738948457, -0.6841030098898158, -2.329798162965161, -0.8465735509889079, -2.864894218110486, -2.0577122721920715, -2.279352331440391, -1.8037514897832467, -1.1047557152546488], \"y\": [0.9790857893273435, -0.5590760176248486, 1.2278531490673428, 1.2190624220895303, 3.49114948669963, 0.4211690393388862, 0.36913699091653485, 0.10580049157183916, 1.9168234241583808, 1.1099999377068954], \"z\": [2.068146970219456, 0.4150732513353032, -0.010113325143765789, 1.3989711957767137, 1.72033088073343, 1.6022985943303076, 0.224792893650214, 0.376431046936794, 0.7077948919913377, 0.5745249356963117]}, {\"marker\": {\"color\": \"rgb(253,174,97)\", \"opacity\": 0.95, \"size\": 12}, \"mode\": \"markers\", \"name\": \"class 1\", \"type\": \"scatter3d\", \"x\": [-0.01794773587618695, -0.914532057958727, 1.4591929982159104, -0.31208620909056495, 1.5826351590365606, 0.8353248320734741, 0.25875634912086964, -0.8319491679257318, 0.3846314754778948, -1.0688451608083938, 1.0503193204829515, 0.9159810559501194, 1.5185137964572077, -1.2374125279054595, -0.5095817965997907, -0.8111865011718488, -0.9948488848285697, 0.5714864651046163, 0.9688598659732974, -0.7553526481506945, -0.017107562434029656, 1.5992993500023394, 0.670174937234419, -1.2825171786608567, -0.4066448394070855, -0.8492512695506897, 1.2996231923697943, 0.12556836353469722, -0.9770019443781461, -0.3261213671593368, -0.3350301329774724, 0.6497982792340087, 0.33223859812393736, 0.4846120697161602, -0.692832681567234, 0.22742583829035798, -0.9584528227146965, -0.2727234100441465, -1.0733699440726079, -1.358315066903165, -0.3442883649078513], \"y\": [-0.7512765755815155, -0.5483582919017157, -0.14049802079828796, -0.3582222752610786, 0.04959158966447511, 0.9546325484676105, 0.24748211820744362, 0.24932954491524872, -0.5627279820325191, 0.097894894635127, -0.6875411308801, -0.005266296555328621, 0.6823648100359541, -0.557911067904544, 0.01295124949617312, -1.0541639992355123, -1.0163499174177884, 0.5242596700202171, 0.8359583197488755, -1.207332970796511, 0.37497793868253754, 0.7802581671941191, -1.718928340010831, -1.2837394161083215, -0.09569931167041312, -0.7836000206671913, -0.8058276734354748, -0.7467036318249166, -1.292022861083096, -0.7327932397809404, -1.036261820118587, -0.0899523436086646, 0.5001095670333678, -1.5292157467809186, -0.45902411577144026, 0.9059994931815484, -0.5701423467410272, 0.01418997245677436, 0.13682585359107893, -0.04851582433788331, 0.35617837172997124], \"z\": [-0.5465940163486447, -0.530585312338771, -0.25096558378591516, -0.42410736673482063, -0.32587655397147297, -0.47117065784984374, -0.6133732706339925, -0.5638296809718003, -0.568046941908475, -0.27435293560339563, -0.22713866780372688, -0.7485441326728047, -0.8263962569513943, -0.4120312731519802, -0.4893373601191704, -0.524007731878414, -0.6058274285158731, -0.6708168362213319, -0.6653351073202846, -0.6468190949296215, -0.45297836658290364, -0.6871247902634333, 0.2594828202629844, -0.15112603255681303, -0.2654591693523674, -0.6445697232819304, -0.21923324348240547, -0.6818034109370975, -0.5835502442378829, -0.6814772799054376, -0.6701686283920858, -0.3863707092643121, -0.5577035569023423, -0.2602587151184692, -0.39467094727702606, 0.1730623418524617, -0.4923458215257084, -0.28033925835297324, -0.4495261036626127, -0.2803824879422393, -0.27242529217350575]}, {\"marker\": {\"color\": \"rgb(171,221,164)\", \"opacity\": 0.95, \"size\": 12}, \"mode\": \"markers\", \"name\": \"class 2\", \"type\": \"scatter3d\", \"x\": [1.7101831632627098, 2.550580613607178, 2.825546276569964, 1.7877299163291096, 1.855335220104406, 2.472336594802735], \"y\": [-1.147888503046782, -2.2173516095637, -1.6878149276041192, -1.997633567028456, -2.7938788440586206, -1.1516499712532038], \"z\": [0.3096752427068567, 2.047787693483963, 1.8894763251886768, 1.5336477648369748, 2.0291844687612164, 1.1839028086695402]}, {\"marker\": {\"color\": \"rgb(43,131,186)\", \"opacity\": 0.95, \"size\": 12}, \"mode\": \"markers\", \"name\": \"class 3\", \"type\": \"scatter3d\", \"x\": [4.14956341638611, 2.321881691801864, 1.3109161291532547], \"y\": [3.47216113385125, 4.5997123146939884, 4.002410372002198], \"z\": [-0.6195833226601868, 0.4786926645697644, 0.4330898477249246]}],\n",
       "                        {\"margin\": {\"b\": 10, \"l\": 10, \"r\": 20, \"t\": 10}, \"scene\": {\"xaxis\": {\"title\": {\"text\": \"PCA 0\"}}, \"yaxis\": {\"title\": {\"text\": \"PCA 1\"}}, \"zaxis\": {\"title\": {\"text\": \"PCA 2\"}}}, \"template\": {\"data\": {\"bar\": [{\"error_x\": {\"color\": \"#2a3f5f\"}, \"error_y\": {\"color\": \"#2a3f5f\"}, \"marker\": {\"line\": {\"color\": \"#E5ECF6\", \"width\": 0.5}}, \"type\": \"bar\"}], \"barpolar\": [{\"marker\": {\"line\": {\"color\": \"#E5ECF6\", \"width\": 0.5}}, \"type\": \"barpolar\"}], \"carpet\": [{\"aaxis\": {\"endlinecolor\": \"#2a3f5f\", \"gridcolor\": \"white\", \"linecolor\": \"white\", \"minorgridcolor\": \"white\", \"startlinecolor\": \"#2a3f5f\"}, \"baxis\": {\"endlinecolor\": \"#2a3f5f\", \"gridcolor\": \"white\", \"linecolor\": \"white\", \"minorgridcolor\": \"white\", \"startlinecolor\": \"#2a3f5f\"}, \"type\": \"carpet\"}], \"choropleth\": [{\"colorbar\": {\"outlinewidth\": 0, \"ticks\": \"\"}, \"type\": \"choropleth\"}], \"contour\": [{\"colorbar\": {\"outlinewidth\": 0, \"ticks\": \"\"}, \"colorscale\": [[0.0, \"#0d0887\"], [0.1111111111111111, \"#46039f\"], [0.2222222222222222, \"#7201a8\"], [0.3333333333333333, \"#9c179e\"], [0.4444444444444444, \"#bd3786\"], [0.5555555555555556, \"#d8576b\"], [0.6666666666666666, \"#ed7953\"], [0.7777777777777778, \"#fb9f3a\"], [0.8888888888888888, \"#fdca26\"], [1.0, \"#f0f921\"]], \"type\": \"contour\"}], \"contourcarpet\": [{\"colorbar\": {\"outlinewidth\": 0, \"ticks\": \"\"}, \"type\": \"contourcarpet\"}], \"heatmap\": [{\"colorbar\": {\"outlinewidth\": 0, \"ticks\": \"\"}, \"colorscale\": [[0.0, \"#0d0887\"], [0.1111111111111111, \"#46039f\"], [0.2222222222222222, \"#7201a8\"], [0.3333333333333333, \"#9c179e\"], [0.4444444444444444, \"#bd3786\"], [0.5555555555555556, \"#d8576b\"], [0.6666666666666666, \"#ed7953\"], [0.7777777777777778, \"#fb9f3a\"], [0.8888888888888888, \"#fdca26\"], [1.0, \"#f0f921\"]], \"type\": \"heatmap\"}], \"heatmapgl\": [{\"colorbar\": {\"outlinewidth\": 0, \"ticks\": \"\"}, \"colorscale\": [[0.0, \"#0d0887\"], [0.1111111111111111, \"#46039f\"], [0.2222222222222222, \"#7201a8\"], [0.3333333333333333, \"#9c179e\"], [0.4444444444444444, \"#bd3786\"], [0.5555555555555556, \"#d8576b\"], [0.6666666666666666, \"#ed7953\"], [0.7777777777777778, \"#fb9f3a\"], [0.8888888888888888, \"#fdca26\"], [1.0, \"#f0f921\"]], \"type\": \"heatmapgl\"}], \"histogram\": [{\"marker\": {\"colorbar\": {\"outlinewidth\": 0, \"ticks\": \"\"}}, \"type\": \"histogram\"}], \"histogram2d\": [{\"colorbar\": {\"outlinewidth\": 0, \"ticks\": \"\"}, \"colorscale\": [[0.0, \"#0d0887\"], [0.1111111111111111, \"#46039f\"], [0.2222222222222222, \"#7201a8\"], [0.3333333333333333, \"#9c179e\"], [0.4444444444444444, \"#bd3786\"], [0.5555555555555556, \"#d8576b\"], [0.6666666666666666, \"#ed7953\"], [0.7777777777777778, \"#fb9f3a\"], [0.8888888888888888, \"#fdca26\"], [1.0, \"#f0f921\"]], \"type\": \"histogram2d\"}], \"histogram2dcontour\": [{\"colorbar\": {\"outlinewidth\": 0, \"ticks\": \"\"}, \"colorscale\": [[0.0, \"#0d0887\"], [0.1111111111111111, \"#46039f\"], [0.2222222222222222, \"#7201a8\"], [0.3333333333333333, \"#9c179e\"], [0.4444444444444444, \"#bd3786\"], [0.5555555555555556, \"#d8576b\"], [0.6666666666666666, \"#ed7953\"], [0.7777777777777778, \"#fb9f3a\"], [0.8888888888888888, \"#fdca26\"], [1.0, \"#f0f921\"]], \"type\": \"histogram2dcontour\"}], \"mesh3d\": [{\"colorbar\": {\"outlinewidth\": 0, \"ticks\": \"\"}, \"type\": \"mesh3d\"}], \"parcoords\": [{\"line\": {\"colorbar\": {\"outlinewidth\": 0, \"ticks\": \"\"}}, \"type\": \"parcoords\"}], \"pie\": [{\"automargin\": true, \"type\": \"pie\"}], \"scatter\": [{\"marker\": {\"colorbar\": {\"outlinewidth\": 0, \"ticks\": \"\"}}, \"type\": \"scatter\"}], \"scatter3d\": [{\"line\": {\"colorbar\": {\"outlinewidth\": 0, \"ticks\": \"\"}}, \"marker\": {\"colorbar\": {\"outlinewidth\": 0, \"ticks\": \"\"}}, \"type\": \"scatter3d\"}], \"scattercarpet\": [{\"marker\": {\"colorbar\": {\"outlinewidth\": 0, \"ticks\": \"\"}}, \"type\": \"scattercarpet\"}], \"scattergeo\": [{\"marker\": {\"colorbar\": {\"outlinewidth\": 0, \"ticks\": \"\"}}, \"type\": \"scattergeo\"}], \"scattergl\": [{\"marker\": {\"colorbar\": {\"outlinewidth\": 0, \"ticks\": \"\"}}, \"type\": \"scattergl\"}], \"scattermapbox\": [{\"marker\": {\"colorbar\": {\"outlinewidth\": 0, \"ticks\": \"\"}}, \"type\": \"scattermapbox\"}], \"scatterpolar\": [{\"marker\": {\"colorbar\": {\"outlinewidth\": 0, \"ticks\": \"\"}}, \"type\": \"scatterpolar\"}], \"scatterpolargl\": [{\"marker\": {\"colorbar\": {\"outlinewidth\": 0, \"ticks\": \"\"}}, \"type\": \"scatterpolargl\"}], \"scatterternary\": [{\"marker\": {\"colorbar\": {\"outlinewidth\": 0, \"ticks\": \"\"}}, \"type\": \"scatterternary\"}], \"surface\": [{\"colorbar\": {\"outlinewidth\": 0, \"ticks\": \"\"}, \"colorscale\": [[0.0, \"#0d0887\"], [0.1111111111111111, \"#46039f\"], [0.2222222222222222, \"#7201a8\"], [0.3333333333333333, \"#9c179e\"], [0.4444444444444444, \"#bd3786\"], [0.5555555555555556, \"#d8576b\"], [0.6666666666666666, \"#ed7953\"], [0.7777777777777778, \"#fb9f3a\"], [0.8888888888888888, \"#fdca26\"], [1.0, \"#f0f921\"]], \"type\": \"surface\"}], \"table\": [{\"cells\": {\"fill\": {\"color\": \"#EBF0F8\"}, \"line\": {\"color\": \"white\"}}, \"header\": {\"fill\": {\"color\": \"#C8D4E3\"}, \"line\": {\"color\": \"white\"}}, \"type\": \"table\"}]}, \"layout\": {\"annotationdefaults\": {\"arrowcolor\": \"#2a3f5f\", \"arrowhead\": 0, \"arrowwidth\": 1}, \"coloraxis\": {\"colorbar\": {\"outlinewidth\": 0, \"ticks\": \"\"}}, \"colorscale\": {\"diverging\": [[0, \"#8e0152\"], [0.1, \"#c51b7d\"], [0.2, \"#de77ae\"], [0.3, \"#f1b6da\"], [0.4, \"#fde0ef\"], [0.5, \"#f7f7f7\"], [0.6, \"#e6f5d0\"], [0.7, \"#b8e186\"], [0.8, \"#7fbc41\"], [0.9, \"#4d9221\"], [1, \"#276419\"]], \"sequential\": [[0.0, \"#0d0887\"], [0.1111111111111111, \"#46039f\"], [0.2222222222222222, \"#7201a8\"], [0.3333333333333333, \"#9c179e\"], [0.4444444444444444, \"#bd3786\"], [0.5555555555555556, \"#d8576b\"], [0.6666666666666666, \"#ed7953\"], [0.7777777777777778, \"#fb9f3a\"], [0.8888888888888888, \"#fdca26\"], [1.0, \"#f0f921\"]], \"sequentialminus\": [[0.0, \"#0d0887\"], [0.1111111111111111, \"#46039f\"], [0.2222222222222222, \"#7201a8\"], [0.3333333333333333, \"#9c179e\"], [0.4444444444444444, \"#bd3786\"], [0.5555555555555556, \"#d8576b\"], [0.6666666666666666, \"#ed7953\"], [0.7777777777777778, \"#fb9f3a\"], [0.8888888888888888, \"#fdca26\"], [1.0, \"#f0f921\"]]}, \"colorway\": [\"#636efa\", \"#EF553B\", \"#00cc96\", \"#ab63fa\", \"#FFA15A\", \"#19d3f3\", \"#FF6692\", \"#B6E880\", \"#FF97FF\", \"#FECB52\"], \"font\": {\"color\": \"#2a3f5f\"}, \"geo\": {\"bgcolor\": \"white\", \"lakecolor\": \"white\", \"landcolor\": \"#E5ECF6\", \"showlakes\": true, \"showland\": true, \"subunitcolor\": \"white\"}, \"hoverlabel\": {\"align\": \"left\"}, \"hovermode\": \"closest\", \"mapbox\": {\"style\": \"light\"}, \"paper_bgcolor\": \"white\", \"plot_bgcolor\": \"#E5ECF6\", \"polar\": {\"angularaxis\": {\"gridcolor\": \"white\", \"linecolor\": \"white\", \"ticks\": \"\"}, \"bgcolor\": \"#E5ECF6\", \"radialaxis\": {\"gridcolor\": \"white\", \"linecolor\": \"white\", \"ticks\": \"\"}}, \"scene\": {\"xaxis\": {\"backgroundcolor\": \"#E5ECF6\", \"gridcolor\": \"white\", \"gridwidth\": 2, \"linecolor\": \"white\", \"showbackground\": true, \"ticks\": \"\", \"zerolinecolor\": \"white\"}, \"yaxis\": {\"backgroundcolor\": \"#E5ECF6\", \"gridcolor\": \"white\", \"gridwidth\": 2, \"linecolor\": \"white\", \"showbackground\": true, \"ticks\": \"\", \"zerolinecolor\": \"white\"}, \"zaxis\": {\"backgroundcolor\": \"#E5ECF6\", \"gridcolor\": \"white\", \"gridwidth\": 2, \"linecolor\": \"white\", \"showbackground\": true, \"ticks\": \"\", \"zerolinecolor\": \"white\"}}, \"shapedefaults\": {\"line\": {\"color\": \"#2a3f5f\"}}, \"ternary\": {\"aaxis\": {\"gridcolor\": \"white\", \"linecolor\": \"white\", \"ticks\": \"\"}, \"baxis\": {\"gridcolor\": \"white\", \"linecolor\": \"white\", \"ticks\": \"\"}, \"bgcolor\": \"#E5ECF6\", \"caxis\": {\"gridcolor\": \"white\", \"linecolor\": \"white\", \"ticks\": \"\"}}, \"title\": {\"x\": 0.05}, \"xaxis\": {\"automargin\": true, \"gridcolor\": \"white\", \"linecolor\": \"white\", \"ticks\": \"\", \"title\": {\"standoff\": 15}, \"zerolinecolor\": \"white\", \"zerolinewidth\": 2}, \"yaxis\": {\"automargin\": true, \"gridcolor\": \"white\", \"linecolor\": \"white\", \"ticks\": \"\", \"title\": {\"standoff\": 15}, \"zerolinecolor\": \"white\", \"zerolinewidth\": 2}}}},\n",
       "                        {\"responsive\": true}\n",
       "                    ).then(function(){\n",
       "                            \n",
       "var gd = document.getElementById('4909c793-60b9-446e-996f-aebb607bc5ee');\n",
       "var x = new MutationObserver(function (mutations, observer) {{\n",
       "        var display = window.getComputedStyle(gd).display;\n",
       "        if (!display || display === 'none') {{\n",
       "            console.log([gd, 'removed!']);\n",
       "            Plotly.purge(gd);\n",
       "            observer.disconnect();\n",
       "        }}\n",
       "}});\n",
       "\n",
       "// Listen for the removal of the full notebook cells\n",
       "var notebookContainer = gd.closest('#notebook-container');\n",
       "if (notebookContainer) {{\n",
       "    x.observe(notebookContainer, {childList: true});\n",
       "}}\n",
       "\n",
       "// Listen for the clearing of the current output cell\n",
       "var outputEl = gd.closest('.output');\n",
       "if (outputEl) {{\n",
       "    x.observe(outputEl, {childList: true});\n",
       "}}\n",
       "\n",
       "                        })\n",
       "                };\n",
       "                });\n",
       "            </script>\n",
       "        </div>"
      ]
     },
     "metadata": {},
     "output_type": "display_data"
    }
   ],
   "source": [
    "traces = []\n",
    "c = ['rgb(215,25,28)','rgb(253,174,97)','rgb(171,221,164)','rgb(43,131,186)']\n",
    "name = [\"class 0\",\"class 1\",\"class 2\",\"class 3\"]\n",
    "for i in range(4):\n",
    "\n",
    "    trace = go.Scatter3d(\n",
    "        x=X_pca[y_pred==i][:,0],\n",
    "        y=X_pca[y_pred==i][:,1],\n",
    "        z=X_pca[y_pred==i][:,2],\n",
    "        mode='markers',\n",
    "        name=name[i],\n",
    "        marker=dict(\n",
    "            size=12,\n",
    "            color=c[i],\n",
    "            opacity=0.95\n",
    "        )\n",
    "    )\n",
    "    traces.append(trace)\n",
    "    \n",
    "fig = go.Figure(data=traces)  \n",
    "\n",
    "fig.update_layout(scene = dict(\n",
    "                    xaxis_title='PCA 0',\n",
    "                    yaxis_title='PCA 1',\n",
    "                    zaxis_title='PCA 2'),\n",
    "                  \n",
    "                    margin=dict(r=20, b=10, l=10, t=10))\n",
    "\n",
    "\n",
    "\n",
    "fig.show()\n"
   ]
  },
  {
   "cell_type": "code",
   "execution_count": 26,
   "metadata": {},
   "outputs": [
    {
     "data": {
      "text/plain": [
       "'distribution_3D_class.html'"
      ]
     },
     "execution_count": 26,
     "metadata": {},
     "output_type": "execute_result"
    }
   ],
   "source": [
    "import plotly.offline as py\n",
    "py.plot(fig,filename='distribution_3D_class.html')"
   ]
  },
  {
   "cell_type": "code",
   "execution_count": 18,
   "metadata": {},
   "outputs": [],
   "source": [
    "column_name =['nombre_terrase', 'nombre_logement', 'surface_region','distance', 'population'] "
   ]
  },
  {
   "cell_type": "code",
   "execution_count": 19,
   "metadata": {
    "scrolled": false
   },
   "outputs": [
    {
     "data": {
      "image/png": "[encoded data removed]",
      "text/plain": [
       "<Figure size 432x288 with 1 Axes>"
      ]
     },
     "metadata": {
      "needs_background": "light"
     },
     "output_type": "display_data"
    },
    {
     "data": {
      "image/png": "[encoded data removed]",
      "text/plain": [
       "<Figure size 432x288 with 1 Axes>"
      ]
     },
     "metadata": {
      "needs_background": "light"
     },
     "output_type": "display_data"
    },
    {
     "data": {
      "image/png": "[encoded data removed]",
      "text/plain": [
       "<Figure size 432x288 with 1 Axes>"
      ]
     },
     "metadata": {
      "needs_background": "light"
     },
     "output_type": "display_data"
    },
    {
     "data": {
      "image/png": "[encoded data removed]",
      "text/plain": [
       "<Figure size 432x288 with 1 Axes>"
      ]
     },
     "metadata": {
      "needs_background": "light"
     },
     "output_type": "display_data"
    }
   ],
   "source": [
    "for i in range(4):\n",
    "    height=np.mean(X[y_pred==i], axis=0)\n",
    "    plt.bar(column_name,height,label='class '+str(i))\n",
    "    plt.xticks(rotation = 90)\n",
    "    plt.legend(loc=\"upper right\")\n",
    "    plt.show();"
   ]
  }
 ],
 "metadata": {
  "kernelspec": {
   "display_name": "Python 3",
   "language": "python",
   "name": "python3"
  },
  "language_info": {
   "codemirror_mode": {
    "name": "ipython",
    "version": 3
   },
   "file_extension": ".py",
   "mimetype": "text/x-python",
   "name": "python",
   "nbconvert_exporter": "python",
   "pygments_lexer": "ipython3",
   "version": "3.7.6"
  }
 },
 "nbformat": 4,
 "nbformat_minor": 4
}
